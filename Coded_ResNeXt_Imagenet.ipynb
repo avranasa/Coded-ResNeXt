{
  "nbformat": 4,
  "nbformat_minor": 0,
  "metadata": {
    "colab": {
      "name": "Coded_ResNeXt_Imagenet.ipynb",
      "provenance": [],
      "collapsed_sections": [],
      "machine_shape": "hm",
      "mount_file_id": "1ocjvNafNC_9CnlSdi6pO5YR6LjWhJsJj",
      "authorship_tag": "ABX9TyOhztUAE9/14bBSDVWg7kkd",
      "include_colab_link": true
    },
    "kernelspec": {
      "name": "python3",
      "display_name": "Python 3"
    },
    "language_info": {
      "name": "python"
    },
    "accelerator": "TPU"
  },
  "cells": [
    {
      "cell_type": "markdown",
      "metadata": {
        "id": "view-in-github",
        "colab_type": "text"
      },
      "source": [
        "<a href=\"https://colab.research.google.com/github/avranasa/Coded-ResNeXt/blob/main/Coded_ResNeXt_Imagenet.ipynb\" target=\"_parent\"><img src=\"https://colab.research.google.com/assets/colab-badge.svg\" alt=\"Open In Colab\"/></a>"
      ]
    },
    {
      "cell_type": "code",
      "execution_count": null,
      "metadata": {
        "id": "_-5vjUDAVzoA"
      },
      "outputs": [],
      "source": [
        "!pip install git+https://github.com/rwightman/pytorch-image-models.git@bits_and_tpu\n",
        "!apt-get install -q subversion\n",
        "!svn checkout https://github.com/avranasa/Coded-ResNeXt.git/trunk/Imagenet /content/Imagenet\n",
        "!pip uninstall -y torch\n",
        "!pip install torch==1.8.2+cpu  torchvision==0.9.2+cpu -f https://download.pytorch.org/whl/lts/1.8/torch_lts.html\n",
        "!pip install -q cloud-tpu-client==0.10 https://storage.googleapis.com/tpu-pytorch/wheels/torch_xla-1.8-cp37-cp37m-linux_x86_64.whl"
      ]
    },
    {
      "cell_type": "code",
      "source": [
        "from google.colab import drive\n",
        "drive.mount('/content/drive')\n",
        "path_2_tar_files = '/content/drive/MyDrive/Imagenet'\n",
        "\n",
        "#The path_2_tar_files should contain the: \"meta.bin\", \"ILSVRC2012_img_val.tar\",\n",
        "#ILSVRC2012_devkit_t12.tar.gz, and a folder named \"train\" containing the tar files\n",
        "#which each contain the images per class used for training. Those files are created \n",
        "#by extracting the ILSVRC2012_img_train.tar and look like: n01440764.tar, n01443537.tar,...\n",
        "\n",
        "\n",
        "#The following lines will extract from the directory: path_2_tar_files/train/ \n",
        "#the images for every class used for training and create a directory: data_dir/train/\n",
        "#where it will create a folder per class putting there the images for each class.\n",
        "#Lastly the images for validation will be saved in a directory: data_dir/val/\n",
        "\n",
        "#This procedure will take around 45 minutes. It was the fastest procedure we found that could \n",
        "#also fit in the 182GB available memory in the disk. We tried also to transfer locally the \n",
        "#whole ILSVRC2012_img_train.tar and locally extract it. Also we tried extracting\n",
        "#all the images in the google drive and the dataloader fetching batches from the drive.\n",
        "#Both of those approach failed or were much slower. \n",
        "import sys\n",
        "sys.path.insert(0, '/content/Imagenet')\n",
        "from DatasetImagenet import MyImageNet\n",
        "data_dir = \"/content/\"\n",
        "MyImageNet(root= data_dir, path_2_files= path_2_tar_files, split='train')\n",
        "MyImageNet(root= data_dir, path_2_files= path_2_tar_files , split='val')"
      ],
      "metadata": {
        "id": "K4A7D-4CyIgm"
      },
      "execution_count": null,
      "outputs": []
    },
    {
      "cell_type": "code",
      "source": [
        "'''\n",
        "Below the directory /content/ is the same as the \"data_dir\" of the previous cell where the training images were saved.\n",
        "IMPORTANT: With subscription COLAB Pro the session is active only for 12 hours and with COLAB Pro+ it is 24 hours but each epoch \n",
        "           takes about 45 minutes. So to be  able to train for 150 epochs we had to save a checkpoint every epoch and when the \n",
        "           session is terminated, we restart a session and continue the training from the last saved checkpoint. Therefore the \n",
        "           checkpoints must NOT be saved LOCALLY but somewhere permanently. We save them in our personal the google drive. The exact\n",
        "           saving directory is defined as the argument of --output (in this case it is  /content/drive/MyDrive/Example ).\n",
        "\n",
        "           When restarting the session we continue the training from the last saved checkpoint by passing the argument:\n",
        "           --resume /content/drive/MyDrive/Example/New_experiment/last.pth.tar\n",
        "\n",
        "Description of main added arguments:\n",
        "    --Control: Runs the baseline ResNeXt. Therefore the arguments (e.g. Coef-LossDisentangle, dp-prob, coding-ratio-per-stage)\n",
        "               related to coded-ResNeXt will not play any role.\n",
        "    --Coef-LossDisentangle: The coefficient with which the coding loss is multiplied (in the paper is denoted with $\\mu$)\n",
        "    --dp-prob: The dropSubNN probability (in the paper it is denoted with $p_{drop}$). It is applied to all the blocks that \n",
        "               with a coding scheme of ratio $r_l<1$ and with the same probability.\n",
        "    --coding-ratio-per-stage: The ratios of the coding schemes that are applied per stage. Assumption of using (Coded-)ResNeXt\n",
        "              which has 4 stages, so 4 inputs should be given. Default: '32/32' '32/32' '16/32' '8/32'. Also it is assumed\n",
        "              that all blocks within  a stage have the same ratio.\n",
        "              If the user wants to experiment more without those assumptions, please go to the  CodedResNeXt.py file to\n",
        "              change directly the \"ARCHITECTURE_IMAGENET\". More details can be found in that file.\n",
        "'''\n",
        "\n",
        "!python /content/Imagenet/launch_xla.py --num-devices 8  /content/Imagenet/train.py /content/ \\\n",
        "    --output /content/drive/MyDrive/Example  --experiment New_experiment\\\n",
        "    --Coef-LossDisentangle 2.0 --dp-prob 0.1 --coding-ratio-per-stage 32/32 32/32 16/32 8/32\\\n",
        "    -b 128 -vb 128 -j 2 --input-size 3 160 160 --aa rand-m10-n2 --epochs 150 --cooldown-epochs 0 --lr .4   --warmup-epochs 5  --sched cosine  --checkpoint-hist 1\n",
        "    #--resume /content/drive/MyDrive/Example/New_experiment/last.pth.tar"
      ],
      "metadata": {
        "id": "0Z00bEgy-HSu"
      },
      "execution_count": null,
      "outputs": []
    },
    {
      "cell_type": "code",
      "source": [
        "'''\n",
        "An example of how to run the experiment of removing randomly subNNs from a given block. Load the Coded-ResNeXt model (which below\n",
        "we do it from the fictitious checkpoint /content/drive/MyDrive/Example/New_experiment/last.pth.tar). Then use the argument:\n",
        "--Remove-subNNs-from-block : Provide two or more integers. The first integer denotes the index of the block \n",
        "                            from which subNNs will be removed. Two ways of removing: first from the \n",
        "                            set of inactive subNNs and second from the set of active. How many subNNs will be \n",
        "                            removed is determined by the rest of the provided integers. In the example below \n",
        "                            it is given: 14 4 7 , so  then from the 14-th block first 4 subNNs will be \n",
        "                            randomly removed in the two ways (per validation sample) and then the experiment \n",
        "                            will be repeated with 7.\n",
        "                            Note that in the paper we start indexing the blocks from 1 but in the code from 0.\n",
        "                            So the 5-th for example block of the paper here it will be the 6-th.\n",
        "'''\n",
        "\n",
        "!python /content/Imagenet/launch_xla.py --num-devices 8  /content/Imagenet/train.py /content/ \\\n",
        "    -b 128 -vb 128 -j 2 --input-size 3 160 160 \\\n",
        "    --Remove-subNNs-from-block 14 4 7\\\n",
        "    --resume /content/drive/MyDrive/Example/New_experiment/last.pth.tar\n",
        "  "
      ],
      "metadata": {
        "colab": {
          "base_uri": "https://localhost:8080/"
        },
        "id": "pRoDUPVUUQNA",
        "outputId": "c9b96a0c-4762-49e5-f51d-e392436443ad"
      },
      "execution_count": 3,
      "outputs": [
        {
          "output_type": "stream",
          "name": "stdout",
          "text": [
            "WARNING:root:TPU has started up successfully with version pytorch-1.8\n",
            "Initialized device xla:1. Rank: 0 (0) of 8.\n",
            "DeviceEnvXla(device=device(type='xla', index=1), world_size=8, local_rank=0, global_rank=0, amp=False, autocast=<class 'contextlib.suppress'>, memory_format=None, dtype=None)\n",
            "===============================\n",
            "Your arguments for the experiment - new_experiment - are:\n",
            "     Control:  False\n",
            "     Energy_normalization:  True\n",
            "     Same_code_Same_mask:  True\n",
            "     LossDisentangle_type:  power4_threshold0.0\n",
            "     Coef_LossDisentangle:  1.0\n",
            "     Dropout SubNN prob. :  0.1\n",
            "     Mask_grads:  False\n",
            "     Coding Ratios per stage: ['32/32', '32/32', '16/32', '8/32']\n",
            "Saving at directory:  /\n",
            "And the experiment name:  new_experiment\n",
            "===============================\n",
            "Training in distributed mode with multiple processes, 1 device per process. Process 0, total 8.\n",
            "Initialized device xla:0. Rank: 2 (2) of 8.\n",
            "DeviceEnvXla(device=device(type='xla', index=0), world_size=8, local_rank=2, global_rank=2, amp=False, autocast=<class 'contextlib.suppress'>, memory_format=None, dtype=None)\n",
            "Training in distributed mode with multiple processes, 1 device per process. Process 2, total 8.\n",
            "Initialized device xla:0. Rank: 5 (5) of 8.\n",
            "DeviceEnvXla(device=device(type='xla', index=0), world_size=8, local_rank=5, global_rank=5, amp=False, autocast=<class 'contextlib.suppress'>, memory_format=None, dtype=None)\n",
            "Training in distributed mode with multiple processes, 1 device per process. Process 5, total 8.\n",
            "Model Coded_ResNeXt_50 created, param count:25027904\n",
            "Initialized device xla:0. Rank: 7 (7) of 8.\n",
            "DeviceEnvXla(device=device(type='xla', index=0), world_size=8, local_rank=7, global_rank=7, amp=False, autocast=<class 'contextlib.suppress'>, memory_format=None, dtype=None)\n",
            "Training in distributed mode with multiple processes, 1 device per process. Process 7, total 8.\n",
            "Initialized device xla:0. Rank: 6 (6) of 8.\n",
            "DeviceEnvXla(device=device(type='xla', index=0), world_size=8, local_rank=6, global_rank=6, amp=False, autocast=<class 'contextlib.suppress'>, memory_format=None, dtype=None)\n",
            "Training in distributed mode with multiple processes, 1 device per process. Process 6, total 8.\n",
            "Initialized device xla:0. Rank: 4 (4) of 8.\n",
            "DeviceEnvXla(device=device(type='xla', index=0), world_size=8, local_rank=4, global_rank=4, amp=False, autocast=<class 'contextlib.suppress'>, memory_format=None, dtype=None)\n",
            "Training in distributed mode with multiple processes, 1 device per process. Process 4, total 8.\n",
            "Initialized device xla:0. Rank: 3 (3) of 8.\n",
            "DeviceEnvXla(device=device(type='xla', index=0), world_size=8, local_rank=3, global_rank=3, amp=False, autocast=<class 'contextlib.suppress'>, memory_format=None, dtype=None)\n",
            "Training in distributed mode with multiple processes, 1 device per process. Process 3, total 8.\n",
            "Restoring training state from checkpoint...\n",
            "Initialized device xla:0. Rank: 1 (1) of 8.\n",
            "DeviceEnvXla(device=device(type='xla', index=0), world_size=8, local_rank=1, global_rank=1, amp=False, autocast=<class 'contextlib.suppress'>, memory_format=None, dtype=None)\n",
            "Training in distributed mode with multiple processes, 1 device per process. Process 1, total 8.\n",
            "Loaded checkpoint '/content/drive/MyDrive/CVPR_2022_code/Imagenet-ResNeXt/checkpoints/Stage3_16_Stage4_8_dp01_Coef1/best.pth.tar' (epoch 149)\n",
            "Data processing configuration for current model + dataset:\n",
            "\tinput_size: (3, 160, 160)\n",
            "\tinterpolation: bicubic\n",
            "\tmean: (0.485, 0.456, 0.406)\n",
            "\tstd: (0.229, 0.224, 0.225)\n",
            "\tcrop_pct: 0.875\n",
            "WARNING:root:TPU has started up successfully with version pytorch-1.8\n",
            "WARNING:root:TPU has started up successfully with version pytorch-1.8\n",
            "WARNING:root:TPU has started up successfully with version pytorch-1.8\n",
            "Eval, remove_inactive 4 subnns: [0/48 (  0%)] Top1: 91.5039 Top5: 97.5586\n",
            "Eval, remove_inactive 4 subnns: [10/48 ( 21%)] Top1: 84.1619 Top5: 96.1204\n",
            "Eval, remove_inactive 4 subnns: [20/48 ( 42%)] Top1: 83.1101 Top5: 96.1077\n",
            "Eval, remove_inactive 4 subnns: [30/48 ( 62%)] Top1: 80.3049 Top5: 94.6289\n",
            "Eval, remove_inactive 4 subnns: [40/48 ( 83%)] Top1: 78.7776 Top5: 93.8667\n",
            "Eval, remove_inactive 4 subnns: [48/48 (100%)] Top1: 78.2760 Top5: 93.7760\n",
            "Eval, remove_active 4 subnns: [0/48 (  0%)] Top1: 89.2578 Top5: 97.1680\n",
            "Eval, remove_active 4 subnns: [10/48 ( 21%)] Top1: 81.7028 Top5: 95.8540\n",
            "Eval, remove_active 4 subnns: [20/48 ( 42%)] Top1: 80.5199 Top5: 95.8426\n",
            "Eval, remove_active 4 subnns: [30/48 ( 62%)] Top1: 78.0557 Top5: 94.2824\n",
            "Eval, remove_active 4 subnns: [40/48 ( 83%)] Top1: 76.8245 Top5: 93.5404\n",
            "Eval, remove_active 4 subnns: [48/48 (100%)] Top1: 76.3500 Top5: 93.4600\n",
            "Eval, remove_inactive 7 subnns: [0/48 (  0%)] Top1: 91.8945 Top5: 97.4609\n",
            "Eval, remove_inactive 7 subnns: [10/48 ( 21%)] Top1: 84.3395 Top5: 96.1825\n",
            "Eval, remove_inactive 7 subnns: [20/48 ( 42%)] Top1: 83.3659 Top5: 96.2379\n",
            "Eval, remove_inactive 7 subnns: [30/48 ( 62%)] Top1: 80.5853 Top5: 94.7171\n",
            "Eval, remove_inactive 7 subnns: [40/48 ( 83%)] Top1: 79.0849 Top5: 93.9477\n",
            "Eval, remove_inactive 7 subnns: [48/48 (100%)] Top1: 78.5740 Top5: 93.8320\n",
            "Eval, remove_active 7 subnns: [0/48 (  0%)] Top1: 85.7422 Top5: 97.2656\n",
            "Eval, remove_active 7 subnns: [10/48 ( 21%)] Top1: 78.7465 Top5: 95.4279\n",
            "Eval, remove_active 7 subnns: [20/48 ( 42%)] Top1: 77.7855 Top5: 95.5032\n",
            "Eval, remove_active 7 subnns: [30/48 ( 62%)] Top1: 75.7466 Top5: 93.9737\n",
            "Eval, remove_active 7 subnns: [40/48 ( 83%)] Top1: 74.7380 Top5: 93.2188\n",
            "Eval, remove_active 7 subnns: [48/48 (100%)] Top1: 74.3540 Top5: 93.0960\n"
          ]
        }
      ]
    },
    {
      "cell_type": "code",
      "source": [
        "'''\n",
        "An example of how to run the experiment of testing a binary classifier and plotting the distribution for the positive and\n",
        "negative samples. Load the trained Coded-ResNeXt model (which below we do it from a made up checkpoint \n",
        "/content/drive/MyDrive/Example/New_experiment/last.pth.tar). In the output path (here /content/Example ) will be saved 8 \n",
        "(equal to the number of cores of TPU) txt files with the output of the binary classifier. To choose for what class it will \n",
        "be the extracted binary classifier use the argument:\n",
        "    --BinaryClassifier: An integer (from 0 to 999 since Imagenet has 1000 classes) indicating  for which the class a binary\n",
        "                        classifier will be extracted.\n",
        "'''\n",
        "\n",
        "!python /content/Imagenet/launch_xla.py --num-devices 8  /content/Imagenet/train.py /content/ \\\n",
        "    -b 128 -vb 128 -j 2 --input-size 3 160 160 \\\n",
        "    --BinaryClassifier 0  --output  /content/Example \\\n",
        "    --resume /content/drive/MyDrive/Example/New_experiment/last.pth.tar\n",
        "\n",
        "import glob\n",
        "import pickle\n",
        "import torch\n",
        "import matplotlib.pyplot as plt\n",
        "\n",
        "Outputs, Labels, ActualPos, ActualNeg = [],[], [], []\n",
        "for f in glob.iglob('/content/Example/class_0/*.txt'):\n",
        "    with open(f, \"rb\") as fp:  \n",
        "        Out, label = pickle.load(fp)\n",
        "        Outputs.append(Out)\n",
        "        Labels.append(label)\n",
        "Outputs = torch.cat(Outputs)\n",
        "Labels = torch.cat(Labels)\n",
        "fig, axs = plt.subplots(1, 1, sharey=False, tight_layout=False, figsize = (20,8))\n",
        "for o, l in zip(Outputs, Labels):\n",
        "    if l == 0:  #the binary classifier for class 0\n",
        "        ActualPos.append(o)\n",
        "    else: \n",
        "        ActualNeg.append(o)\n",
        "axs.hist(ActualPos, density=True, bins=15, alpha=0.8, label='In-distribution Positives',color='steelblue')\n",
        "axs.hist(ActualNeg , density=True, bins=40, alpha=0.6, label='In-distribution Negatives', color='brown')\n",
        "axs.legend(fontsize=14)\n",
        "plt.show()\n"
      ],
      "metadata": {
        "colab": {
          "base_uri": "https://localhost:8080/",
          "height": 483
        },
        "id": "w6EC2j1p0kq_",
        "outputId": "dd40e0a8-ec4f-453d-c3f3-ba67834fc076"
      },
      "execution_count": 9,
      "outputs": [
        {
          "output_type": "display_data",
          "data": {
            "image/png": "[encoded data removed]",
            "text/plain": [
              "<Figure size 1440x576 with 1 Axes>"
            ]
          },
          "metadata": {
            "needs_background": "light"
          }
        }
      ]
    }
  ]
}